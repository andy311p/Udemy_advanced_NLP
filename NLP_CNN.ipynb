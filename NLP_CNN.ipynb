{
  "nbformat": 4,
  "nbformat_minor": 0,
  "metadata": {
    "colab": {
      "name": "NLP_CNN.ipynb",
      "provenance": [],
      "collapsed_sections": [],
      "mount_file_id": "1Lu01TbYuorivo7ok67xyW2_bOjeRLFKV",
      "authorship_tag": "ABX9TyPFtHhYe/T7paFR3bfe8y1N",
      "include_colab_link": true
    },
    "kernelspec": {
      "name": "python3",
      "display_name": "Python 3"
    }
  },
  "cells": [
    {
      "cell_type": "markdown",
      "metadata": {
        "id": "view-in-github",
        "colab_type": "text"
      },
      "source": [
        "<a href=\"https://colab.research.google.com/github/andy311p/Udemy_advanced_NLP/blob/master/NLP_CNN.ipynb\" target=\"_parent\"><img src=\"https://colab.research.google.com/assets/colab-badge.svg\" alt=\"Open In Colab\"/></a>"
      ]
    },
    {
      "cell_type": "code",
      "metadata": {
        "id": "N9pJaGu-xU9V",
        "colab_type": "code",
        "colab": {}
      },
      "source": [
        "#Installations\n",
        "!pip install kaggle\n",
        "!cp drive/My\\ Drive/nlp_course/kaggle.json /root/.kaggle/\n",
        "!git clone https://github.com/lazyprogrammer/machine_learning_examples.git"
      ],
      "execution_count": null,
      "outputs": []
    },
    {
      "cell_type": "code",
      "metadata": {
        "id": "KxjAUDFH5o2H",
        "colab_type": "code",
        "colab": {}
      },
      "source": [
        "#Imports and HyperParameters\n",
        "import os\n",
        "import sys\n",
        "import numpy as np\n",
        "import pandas as pd\n",
        "import matplotlib.pyplot as plt\n",
        "from keras.preprocessing.text import Tokenizer\n",
        "from keras.preprocessing.sequence import pad_sequences\n",
        "from keras.layers import Dense, Input, GlobalMaxPool1D\n",
        "from keras.layers import Conv1D, MaxPooling1D, Embedding\n",
        "from keras.models import Model\n",
        "from sklearn.metrics import roc_auc_score\n",
        "\n",
        "MAX_SEQUENCE_LENGTH = 100\n",
        "MAX_VOCAB_SIZE = 20000\n",
        "EMBEDDING_DIM = 100\n",
        "VALIDATION_SPLIT = 0.2\n",
        "BATCH_SIZE = 128\n",
        "EPOCHS = 10"
      ],
      "execution_count": null,
      "outputs": []
    },
    {
      "cell_type": "code",
      "metadata": {
        "id": "6BYz0jKPAWJy",
        "colab_type": "code",
        "colab": {
          "base_uri": "https://localhost:8080/",
          "height": 51
        },
        "outputId": "9685a682-098f-40e8-a9bf-658f6e2630f1"
      },
      "source": [
        "#load word vectors\n",
        "print(\"Loading word vectors START\")\n",
        "word2vec = {}\n",
        "with open(os.path.join('drive/My Drive/nlp_course/glove.6B.%sd.txt' % EMBEDDING_DIM)) as f:\n",
        "  for line in f:\n",
        "    line = line.split()\n",
        "    word2vec[line[0]] = np.asarray(line[1:],dtype='float32')\n",
        "print(\"Loaded %s word vectors\" % len(word2vec))\n"
      ],
      "execution_count": null,
      "outputs": [
        {
          "output_type": "stream",
          "text": [
            "Loading word vectors START\n",
            "Loaded 17117 word vectors\n"
          ],
          "name": "stdout"
        }
      ]
    },
    {
      "cell_type": "code",
      "metadata": {
        "id": "hFkZlJ98GYG7",
        "colab_type": "code",
        "colab": {
          "base_uri": "https://localhost:8080/",
          "height": 34
        },
        "outputId": "d5dde12e-48b8-4b73-a24d-c05ae3764979"
      },
      "source": [
        "#Load training data\n",
        "print(\"Loading training data START\")\n",
        "train = pd.read_csv(\"drive/My Drive/nlp_course/train.csv\")\n",
        "\n",
        "#.values converts the result from pandas to numpy array\n",
        "sentences = train['comment_text'].values\n",
        "possible_labels = train.columns[2:].values\n",
        "targets = train[possible_labels].values\n",
        "#print(\"max length: \", max(len(s) for s in sentences))"
      ],
      "execution_count": null,
      "outputs": [
        {
          "output_type": "stream",
          "text": [
            "Loading training data START\n"
          ],
          "name": "stdout"
        }
      ]
    },
    {
      "cell_type": "code",
      "metadata": {
        "id": "ILH9KeTRJfab",
        "colab_type": "code",
        "colab": {}
      },
      "source": [
        "#Pre process data\n",
        "#create a tokenizer for the texts and convert them into numbers\n",
        "tokenizer = Tokenizer(num_words=MAX_VOCAB_SIZE)\n",
        "tokenizer.fit_on_texts(sentences)\n",
        "sequences = tokenizer.texts_to_sequences(sentences) #tokenized sentences\n",
        "data = pad_sequences(sequences,maxlen=MAX_SEQUENCE_LENGTH) #padded tokenized sentences\n",
        "\n",
        "#get the word->index dictionary\n",
        "word2idx = tokenizer.word_index\n",
        "\n",
        "# print(sequences[0])\n",
        "# print(data[0])"
      ],
      "execution_count": null,
      "outputs": []
    },
    {
      "cell_type": "code",
      "metadata": {
        "id": "PfsJVxZDPF2s",
        "colab_type": "code",
        "colab": {}
      },
      "source": [
        "#Prepare embedding matrix\n",
        "num_words = min(MAX_VOCAB_SIZE, len(word2idx) + 1) #the actual size of vocabulary. +1 for padding\n",
        "embedding_matrix = np.zeros((num_words,EMBEDDING_DIM))\n",
        "for w,i in word2idx.items():\n",
        "  if i< MAX_VOCAB_SIZE:\n",
        "    if w in word2vec:\n",
        "      embedding_matrix[i] = word2vec[w]"
      ],
      "execution_count": null,
      "outputs": []
    },
    {
      "cell_type": "code",
      "metadata": {
        "id": "efY7q8kaVzCl",
        "colab_type": "code",
        "colab": {}
      },
      "source": [
        "#Embedding layer\n",
        "embedding_layer = Embedding(\n",
        "    num_words,\n",
        "    EMBEDDING_DIM,\n",
        "    weights=[embedding_matrix],\n",
        "    input_length=MAX_SEQUENCE_LENGTH,\n",
        "    trainable=False\n",
        ")\n",
        "\n",
        "#model architecture\n",
        "input_ = Input(shape=(MAX_SEQUENCE_LENGTH,))\n",
        "x = embedding_layer(input_)\n",
        "x = Conv1D(128,3,activation='relu')(x)\n",
        "x = MaxPooling1D(3)(x)\n",
        "x = Conv1D(128,3,activation='relu')(x)\n",
        "x = MaxPooling1D(3)(x)\n",
        "x = Conv1D(128,3,activation='relu')(x)\n",
        "x = GlobalMaxPool1D()(x)\n",
        "x = Dense(128,activation='relu')(x)\n",
        "output = Dense(len(possible_labels),activation='sigmoid')(x)\n",
        "\n",
        "model = Model(input_, output)\n",
        "model.compile(\n",
        "    loss='binary_crossentropy',\n",
        "    optimizer='rmsprop',\n",
        "    metrics=['accuracy']\n",
        ")"
      ],
      "execution_count": null,
      "outputs": []
    },
    {
      "cell_type": "code",
      "metadata": {
        "id": "aCo1uR_pZjja",
        "colab_type": "code",
        "colab": {
          "base_uri": "https://localhost:8080/",
          "height": 411
        },
        "outputId": "2a530250-fdc2-4ab9-a67f-24ba3f99220d"
      },
      "source": [
        "print(\"Training time.....\")\n",
        "res = model.fit(\n",
        "    data,\n",
        "    targets,\n",
        "    batch_size=BATCH_SIZE,\n",
        "    epochs=EPOCHS,\n",
        "    validation_split=VALIDATION_SPLIT\n",
        ")"
      ],
      "execution_count": null,
      "outputs": [
        {
          "output_type": "stream",
          "text": [
            "Training time.....\n",
            "Epoch 1/10\n",
            "998/998 [==============================] - 104s 104ms/step - loss: 0.1043 - accuracy: 0.9616 - val_loss: 0.0883 - val_accuracy: 0.9941\n",
            "Epoch 2/10\n",
            "998/998 [==============================] - 104s 104ms/step - loss: 0.0873 - accuracy: 0.9872 - val_loss: 0.0881 - val_accuracy: 0.9941\n",
            "Epoch 3/10\n",
            "998/998 [==============================] - 104s 104ms/step - loss: 0.0813 - accuracy: 0.9917 - val_loss: 0.0875 - val_accuracy: 0.9940\n",
            "Epoch 4/10\n",
            "998/998 [==============================] - 104s 104ms/step - loss: 0.0780 - accuracy: 0.9928 - val_loss: 0.0952 - val_accuracy: 0.9940\n",
            "Epoch 5/10\n",
            "998/998 [==============================] - 104s 104ms/step - loss: 0.0750 - accuracy: 0.9936 - val_loss: 0.0887 - val_accuracy: 0.9941\n",
            "Epoch 6/10\n",
            "998/998 [==============================] - 104s 104ms/step - loss: 0.0729 - accuracy: 0.9937 - val_loss: 0.0950 - val_accuracy: 0.9941\n",
            "Epoch 7/10\n",
            "998/998 [==============================] - 103s 104ms/step - loss: 0.0710 - accuracy: 0.9936 - val_loss: 0.1032 - val_accuracy: 0.9939\n",
            "Epoch 8/10\n",
            "998/998 [==============================] - 104s 104ms/step - loss: 0.0697 - accuracy: 0.9937 - val_loss: 0.1265 - val_accuracy: 0.9941\n",
            "Epoch 9/10\n",
            "998/998 [==============================] - 104s 104ms/step - loss: 0.0698 - accuracy: 0.9940 - val_loss: 0.1385 - val_accuracy: 0.9939\n",
            "Epoch 10/10\n",
            "998/998 [==============================] - 103s 104ms/step - loss: 0.0667 - accuracy: 0.9939 - val_loss: 0.1796 - val_accuracy: 0.9941\n"
          ],
          "name": "stdout"
        },
        {
          "output_type": "execute_result",
          "data": {
            "text/plain": [
              "<tensorflow.python.keras.callbacks.History at 0x7f348ec0ac50>"
            ]
          },
          "metadata": {
            "tags": []
          },
          "execution_count": 94
        }
      ]
    },
    {
      "cell_type": "code",
      "metadata": {
        "id": "4jr4UzcCY6Zx",
        "colab_type": "code",
        "colab": {
          "base_uri": "https://localhost:8080/",
          "height": 231
        },
        "outputId": "bd7a72ff-ed26-4069-955d-89773d616e85"
      },
      "source": [
        "# plot some data\n",
        "plt.plot(res.history['loss'], label='loss')\n",
        "plt.plot(res.history['val_loss'], label='val_loss')\n",
        "plt.legend()\n",
        "plt.show()\n",
        "\n",
        "# accuracies\n",
        "plt.plot(res.history['accuracy'], label='acc')\n",
        "plt.plot(res.history['val_accuracy'], label='val_acc')\n",
        "plt.legend()\n",
        "plt.show()\n",
        "\n",
        "# plot the mean AUC over each label\n",
        "p = model.predict(data)\n",
        "aucs = []\n",
        "for j in range(6):\n",
        "    auc = roc_auc_score(targets[:,j], p[:,j])\n",
        "    aucs.append(auc)\n",
        "print(np.mean(aucs))"
      ],
      "execution_count": null,
      "outputs": [
        {
          "output_type": "error",
          "ename": "NameError",
          "evalue": "ignored",
          "traceback": [
            "\u001b[0;31m---------------------------------------------------------------------------\u001b[0m",
            "\u001b[0;31mNameError\u001b[0m                                 Traceback (most recent call last)",
            "\u001b[0;32m<ipython-input-95-66f86edf7a4e>\u001b[0m in \u001b[0;36m<module>\u001b[0;34m()\u001b[0m\n\u001b[1;32m      1\u001b[0m \u001b[0;31m# plot some data\u001b[0m\u001b[0;34m\u001b[0m\u001b[0;34m\u001b[0m\u001b[0;34m\u001b[0m\u001b[0m\n\u001b[0;32m----> 2\u001b[0;31m \u001b[0mplt\u001b[0m\u001b[0;34m.\u001b[0m\u001b[0mplot\u001b[0m\u001b[0;34m(\u001b[0m\u001b[0mr\u001b[0m\u001b[0;34m.\u001b[0m\u001b[0mhistory\u001b[0m\u001b[0;34m[\u001b[0m\u001b[0;34m'loss'\u001b[0m\u001b[0;34m]\u001b[0m\u001b[0;34m,\u001b[0m \u001b[0mlabel\u001b[0m\u001b[0;34m=\u001b[0m\u001b[0;34m'loss'\u001b[0m\u001b[0;34m)\u001b[0m\u001b[0;34m\u001b[0m\u001b[0;34m\u001b[0m\u001b[0m\n\u001b[0m\u001b[1;32m      3\u001b[0m \u001b[0mplt\u001b[0m\u001b[0;34m.\u001b[0m\u001b[0mplot\u001b[0m\u001b[0;34m(\u001b[0m\u001b[0mr\u001b[0m\u001b[0;34m.\u001b[0m\u001b[0mhistory\u001b[0m\u001b[0;34m[\u001b[0m\u001b[0;34m'val_loss'\u001b[0m\u001b[0;34m]\u001b[0m\u001b[0;34m,\u001b[0m \u001b[0mlabel\u001b[0m\u001b[0;34m=\u001b[0m\u001b[0;34m'val_loss'\u001b[0m\u001b[0;34m)\u001b[0m\u001b[0;34m\u001b[0m\u001b[0;34m\u001b[0m\u001b[0m\n\u001b[1;32m      4\u001b[0m \u001b[0mplt\u001b[0m\u001b[0;34m.\u001b[0m\u001b[0mlegend\u001b[0m\u001b[0;34m(\u001b[0m\u001b[0;34m)\u001b[0m\u001b[0;34m\u001b[0m\u001b[0;34m\u001b[0m\u001b[0m\n\u001b[1;32m      5\u001b[0m \u001b[0mplt\u001b[0m\u001b[0;34m.\u001b[0m\u001b[0mshow\u001b[0m\u001b[0;34m(\u001b[0m\u001b[0;34m)\u001b[0m\u001b[0;34m\u001b[0m\u001b[0;34m\u001b[0m\u001b[0m\n",
            "\u001b[0;31mNameError\u001b[0m: name 'r' is not defined"
          ]
        }
      ]
    },
    {
      "cell_type": "code",
      "metadata": {
        "id": "i1AUJ54DrX-t",
        "colab_type": "code",
        "colab": {
          "base_uri": "https://localhost:8080/",
          "height": 204
        },
        "outputId": "7310902b-d529-4dae-c339-36f023b83e49"
      },
      "source": [
        ""
      ],
      "execution_count": null,
      "outputs": [
        {
          "output_type": "stream",
          "text": [
            "[[[-0.5801525   0.06808588 -0.04721453]\n",
            "  [ 0.32034228 -0.62727557 -2.44219065]\n",
            "  [ 0.23404343  1.38661925  0.07614053]]\n",
            "\n",
            " [[ 0.83267963  0.19208428  1.02801091]\n",
            "  [-0.88827598 -1.47248712 -0.57494242]\n",
            "  [ 0.11928063 -0.08006667 -2.4718639 ]]\n",
            "\n",
            " [[-0.04368834 -0.26788151  0.65371636]\n",
            "  [ 1.62533369  0.80078791  0.06781377]\n",
            "  [ 1.03668321  0.50337205 -1.04663385]]]\n"
          ],
          "name": "stdout"
        }
      ]
    }
  ]
}