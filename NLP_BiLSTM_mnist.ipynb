{
  "nbformat": 4,
  "nbformat_minor": 0,
  "metadata": {
    "colab": {
      "name": "NLP_BiLSTM_mnist.ipynb",
      "provenance": [],
      "collapsed_sections": [],
      "mount_file_id": "1XCtVLSKzukNCzH2bLGiJawwp3VgbNpsH",
      "authorship_tag": "ABX9TyOnxqJxki1baXFyYXvg4r0M",
      "include_colab_link": true
    },
    "kernelspec": {
      "name": "python3",
      "display_name": "Python 3"
    }
  },
  "cells": [
    {
      "cell_type": "markdown",
      "metadata": {
        "id": "view-in-github",
        "colab_type": "text"
      },
      "source": [
        "<a href=\"https://colab.research.google.com/github/andy311p/Udemy_advanced_NLP/blob/master/NLP_BiLSTM_mnist.ipynb\" target=\"_parent\"><img src=\"https://colab.research.google.com/assets/colab-badge.svg\" alt=\"Open In Colab\"/></a>"
      ]
    },
    {
      "cell_type": "code",
      "metadata": {
        "id": "KxjAUDFH5o2H",
        "colab_type": "code",
        "colab": {}
      },
      "source": [
        "#Imports and HyperParameters\n",
        "import os\n",
        "import numpy as np\n",
        "import pandas as pd\n",
        "import matplotlib.pyplot as plt\n",
        "\n",
        "from keras.layers import Input,LSTM,GRU,Bidirectional,GlobalMaxPooling1D,Lambda,Concatenate,Dense\n",
        "import keras.backend as K\n",
        "from keras.models import Model\n",
        "\n",
        "MAX_SEQUENCE_LENGTH = 100\n",
        "MAX_VOCAB_SIZE = 20000\n",
        "EMBEDDING_DIM = 100\n",
        "VALIDATION_SPLIT = 0.2\n",
        "BATCH_SIZE = 128\n",
        "EPOCHS = 10"
      ],
      "execution_count": null,
      "outputs": []
    },
    {
      "cell_type": "code",
      "metadata": {
        "id": "-ZnzrL3h703_",
        "colab_type": "code",
        "colab": {}
      },
      "source": [
        "from tensorflow.keras.datasets import mnist\n",
        "(X_train, Y_train), (X_test, Y_test) = mnist.load_data()\n",
        "X_train = X_train.reshape(-1,28,28) / 255.0"
      ],
      "execution_count": null,
      "outputs": []
    },
    {
      "cell_type": "code",
      "metadata": {
        "id": "efY7q8kaVzCl",
        "colab_type": "code",
        "colab": {}
      },
      "source": [
        "D = 28\n",
        "M = 15\n",
        "\n",
        "#input dimensions 28*28\n",
        "input_ = Input(shape=(D,D))\n",
        "\n",
        "#up_down\n",
        "rnn1 = Bidirectional(LSTM(M,return_sequences=True))\n",
        "x1 = rnn1(input_)#output N*D*2M\n",
        "x1 = GlobalMaxPooling1D()(x1)#N*2M\n",
        "\n",
        "#left_right\n",
        "#custom layer that transposes the image\n",
        "permutor = Lambda(lambda t: K.permute_dimensions(t, pattern=(0,2,1)))\n",
        "rnn2 = Bidirectional(LSTM(M,return_sequences=True))\n",
        "x2 = permutor(input_)\n",
        "x2 = rnn2(x2)\n",
        "x2 = GlobalMaxPooling1D()(x2)#N*2M\n",
        "\n",
        "#put the two directions together\n",
        "concatenator = Concatenate(axis=1)\n",
        "x = concatenator([x1,x2])#N*4M\n",
        "\n",
        "#final Dense layer\n",
        "output = Dense(10,activation='softmax')(x)\n",
        "\n",
        "model = Model(input_, output)\n",
        "model.compile(\n",
        "    loss='sparse_categorical_crossentropy',\n",
        "    optimizer='adam',\n",
        "    metrics=['accuracy']\n",
        ")"
      ],
      "execution_count": null,
      "outputs": []
    },
    {
      "cell_type": "code",
      "metadata": {
        "id": "aCo1uR_pZjja",
        "colab_type": "code",
        "colab": {
          "base_uri": "https://localhost:8080/",
          "height": 224
        },
        "outputId": "9c3c488e-a61f-4604-876e-c4278e023c59"
      },
      "source": [
        "print(\"Training time.....\")\n",
        "res = model.fit(\n",
        "    X_train,\n",
        "    Y_train,\n",
        "    batch_size=32,\n",
        "    epochs=5,\n",
        "    validation_split=0.3\n",
        ")"
      ],
      "execution_count": null,
      "outputs": [
        {
          "output_type": "stream",
          "text": [
            "Training time.....\n",
            "Epoch 1/5\n",
            "1313/1313 [==============================] - 42s 32ms/step - loss: 0.6583 - accuracy: 0.8380 - val_loss: 0.2648 - val_accuracy: 0.9261\n",
            "Epoch 2/5\n",
            "1313/1313 [==============================] - 39s 30ms/step - loss: 0.2128 - accuracy: 0.9398 - val_loss: 0.1830 - val_accuracy: 0.9464\n",
            "Epoch 3/5\n",
            "1313/1313 [==============================] - 40s 30ms/step - loss: 0.1546 - accuracy: 0.9556 - val_loss: 0.1388 - val_accuracy: 0.9583\n",
            "Epoch 4/5\n",
            "1313/1313 [==============================] - 41s 31ms/step - loss: 0.1233 - accuracy: 0.9642 - val_loss: 0.1403 - val_accuracy: 0.9573\n",
            "Epoch 5/5\n",
            "1313/1313 [==============================] - 41s 32ms/step - loss: 0.1073 - accuracy: 0.9688 - val_loss: 0.1101 - val_accuracy: 0.9667\n"
          ],
          "name": "stdout"
        }
      ]
    },
    {
      "cell_type": "code",
      "metadata": {
        "id": "4jr4UzcCY6Zx",
        "colab_type": "code",
        "colab": {
          "base_uri": "https://localhost:8080/",
          "height": 513
        },
        "outputId": "4fbfa33d-2fe6-4052-b5b8-489b9074bbbc"
      },
      "source": [
        "# plot some data\n",
        "plt.plot(res.history['loss'], label='loss')\n",
        "plt.plot(res.history['val_loss'], label='val_loss')\n",
        "plt.legend()\n",
        "plt.show()\n",
        "\n",
        "# accuracies\n",
        "plt.plot(res.history['accuracy'], label='acc')\n",
        "plt.plot(res.history['val_accuracy'], label='val_acc')\n",
        "plt.legend()\n",
        "plt.show()\n",
        "\n",
        "# # plot the mean AUC over each label\n",
        "# p = model.predict(data)\n",
        "# aucs = []\n",
        "# for j in range(6):\n",
        "#     auc = roc_auc_score(targets[:,j], p[:,j])\n",
        "#     aucs.append(auc)\n",
        "# print(np.mean(aucs))"
      ],
      "execution_count": null,
      "outputs": [
        {
          "output_type": "display_data",
          "data": {
            "image/png": "[encoded data removed]",
            "text/plain": [
              "<Figure size 432x288 with 1 Axes>"
            ]
          },
          "metadata": {
            "tags": [],
            "needs_background": "light"
          }
        },
        {
          "output_type": "display_data",
          "data": {
            "image/png": "[encoded data removed]",
            "text/plain": [
              "<Figure size 432x288 with 1 Axes>"
            ]
          },
          "metadata": {
            "tags": [],
            "needs_background": "light"
          }
        }
      ]
    },
    {
      "cell_type": "code",
      "metadata": {
        "id": "i1AUJ54DrX-t",
        "colab_type": "code",
        "colab": {
          "base_uri": "https://localhost:8080/",
          "height": 204
        },
        "outputId": "7310902b-d529-4dae-c339-36f023b83e49"
      },
      "source": [
        ""
      ],
      "execution_count": null,
      "outputs": [
        {
          "output_type": "stream",
          "text": [
            "[[[-0.5801525   0.06808588 -0.04721453]\n",
            "  [ 0.32034228 -0.62727557 -2.44219065]\n",
            "  [ 0.23404343  1.38661925  0.07614053]]\n",
            "\n",
            " [[ 0.83267963  0.19208428  1.02801091]\n",
            "  [-0.88827598 -1.47248712 -0.57494242]\n",
            "  [ 0.11928063 -0.08006667 -2.4718639 ]]\n",
            "\n",
            " [[-0.04368834 -0.26788151  0.65371636]\n",
            "  [ 1.62533369  0.80078791  0.06781377]\n",
            "  [ 1.03668321  0.50337205 -1.04663385]]]\n"
          ],
          "name": "stdout"
        }
      ]
    }
  ]
}