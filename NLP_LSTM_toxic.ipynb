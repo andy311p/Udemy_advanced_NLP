{
  "nbformat": 4,
  "nbformat_minor": 0,
  "metadata": {
    "colab": {
      "name": "NLP_LSTM_toxic.ipynb",
      "provenance": [],
      "collapsed_sections": [],
      "mount_file_id": "1ZJiu573E0Q7o2IdmLqwF6bdl7KuTuyko",
      "authorship_tag": "ABX9TyNF51VFwVNJt1OtcHBItzTC",
      "include_colab_link": true
    },
    "kernelspec": {
      "name": "python3",
      "display_name": "Python 3"
    }
  },
  "cells": [
    {
      "cell_type": "markdown",
      "metadata": {
        "id": "view-in-github",
        "colab_type": "text"
      },
      "source": [
        "<a href=\"https://colab.research.google.com/github/andy311p/Udemy_advanced_NLP/blob/master/NLP_LSTM_toxic.ipynb\" target=\"_parent\"><img src=\"https://colab.research.google.com/assets/colab-badge.svg\" alt=\"Open In Colab\"/></a>"
      ]
    },
    {
      "cell_type": "code",
      "metadata": {
        "id": "N9pJaGu-xU9V",
        "colab_type": "code",
        "colab": {}
      },
      "source": [
        "#Installations\n",
        "!pip install kaggle\n",
        "!cp drive/My\\ Drive/nlp_course/kaggle.json /root/.kaggle/\n",
        "!git clone https://github.com/lazyprogrammer/machine_learning_examples.git"
      ],
      "execution_count": null,
      "outputs": []
    },
    {
      "cell_type": "code",
      "metadata": {
        "id": "KxjAUDFH5o2H",
        "colab_type": "code",
        "colab": {}
      },
      "source": [
        "#Imports and HyperParameters\n",
        "import os\n",
        "import sys\n",
        "import numpy as np\n",
        "import pandas as pd\n",
        "import matplotlib.pyplot as plt\n",
        "\n",
        "from keras.preprocessing.text import Tokenizer\n",
        "from keras.preprocessing.sequence import pad_sequences\n",
        "from keras.layers import Dense, Input, Embedding, GlobalMaxPool1D  \n",
        "from keras.layers import LSTM, Bidirectional, Dropout #changes\n",
        "from keras.optimizers import Adam #changes\n",
        "from keras.models import Model\n",
        "from sklearn.metrics import roc_auc_score\n",
        "\n",
        "MAX_SEQUENCE_LENGTH = 100\n",
        "MAX_VOCAB_SIZE = 20000\n",
        "EMBEDDING_DIM = 100\n",
        "VALIDATION_SPLIT = 0.2\n",
        "BATCH_SIZE = 128\n",
        "EPOCHS = 10"
      ],
      "execution_count": null,
      "outputs": []
    },
    {
      "cell_type": "code",
      "metadata": {
        "id": "6BYz0jKPAWJy",
        "colab_type": "code",
        "colab": {
          "base_uri": "https://localhost:8080/",
          "height": 51
        },
        "outputId": "019a9ffd-ada6-417f-c64e-47ebab63056e"
      },
      "source": [
        "#load word vectors\n",
        "print(\"Loading word vectors START\")\n",
        "word2vec = {}\n",
        "with open(os.path.join('drive/My Drive/nlp_course/glove.6B.%sd.txt' % EMBEDDING_DIM)) as f:\n",
        "  for line in f:\n",
        "    line = line.split()\n",
        "    word2vec[line[0]] = np.asarray(line[1:],dtype='float32')\n",
        "print(\"Loaded %s word vectors\" % len(word2vec))\n"
      ],
      "execution_count": null,
      "outputs": [
        {
          "output_type": "stream",
          "text": [
            "Loading word vectors START\n",
            "Loaded 400000 word vectors\n"
          ],
          "name": "stdout"
        }
      ]
    },
    {
      "cell_type": "code",
      "metadata": {
        "id": "hFkZlJ98GYG7",
        "colab_type": "code",
        "colab": {
          "base_uri": "https://localhost:8080/",
          "height": 34
        },
        "outputId": "7718ea1d-5bf4-45be-acdd-70ed26e804a1"
      },
      "source": [
        "#Load training data\n",
        "print(\"Loading training data START\")\n",
        "train = pd.read_csv(\"drive/My Drive/nlp_course/train.csv\")\n",
        "\n",
        "#.values converts the result from pandas to numpy array\n",
        "sentences = train['comment_text'].values\n",
        "possible_labels = train.columns[2:].values\n",
        "targets = train[possible_labels].values\n",
        "#print(\"max length: \", max(len(s) for s in sentences))"
      ],
      "execution_count": null,
      "outputs": [
        {
          "output_type": "stream",
          "text": [
            "Loading training data START\n"
          ],
          "name": "stdout"
        }
      ]
    },
    {
      "cell_type": "code",
      "metadata": {
        "id": "ILH9KeTRJfab",
        "colab_type": "code",
        "colab": {}
      },
      "source": [
        "#Pre process data\n",
        "#create a tokenizer for the texts and convert them into numbers\n",
        "tokenizer = Tokenizer(num_words=MAX_VOCAB_SIZE)\n",
        "tokenizer.fit_on_texts(sentences)\n",
        "sequences = tokenizer.texts_to_sequences(sentences) #tokenized sentences\n",
        "data = pad_sequences(sequences,maxlen=MAX_SEQUENCE_LENGTH) #padded tokenized sentences\n",
        "\n",
        "#get the word->index dictionary\n",
        "word2idx = tokenizer.word_index\n",
        "\n",
        "# print(sequences[0])\n",
        "# print(data[0])"
      ],
      "execution_count": null,
      "outputs": []
    },
    {
      "cell_type": "code",
      "metadata": {
        "id": "PfsJVxZDPF2s",
        "colab_type": "code",
        "colab": {}
      },
      "source": [
        "#Prepare embedding matrix\n",
        "num_words = min(MAX_VOCAB_SIZE, len(word2idx) + 1) #the actual size of vocabulary. +1 for padding\n",
        "embedding_matrix = np.zeros((num_words,EMBEDDING_DIM))\n",
        "for w,i in word2idx.items():\n",
        "  if i< MAX_VOCAB_SIZE:\n",
        "    if w in word2vec:\n",
        "      embedding_matrix[i] = word2vec[w]"
      ],
      "execution_count": null,
      "outputs": []
    },
    {
      "cell_type": "code",
      "metadata": {
        "id": "efY7q8kaVzCl",
        "colab_type": "code",
        "colab": {}
      },
      "source": [
        "#Embedding layer\n",
        "embedding_layer = Embedding(\n",
        "    num_words,\n",
        "    EMBEDDING_DIM,\n",
        "    weights=[embedding_matrix],\n",
        "    input_length=MAX_SEQUENCE_LENGTH,\n",
        "    trainable=False\n",
        ")\n",
        "\n",
        "#model architecture\n",
        "input_ = Input(shape=(MAX_SEQUENCE_LENGTH,))\n",
        "x = embedding_layer(input_)\n",
        "x = LSTM(15,return_sequences=True)(x)\n",
        "#x = Bidirectional(LSTM(15,return_sequences=True))(x) #this is how you turn an LSTM into a biderectional LSTM\n",
        "x = GlobalMaxPool1D()(x)\n",
        "output = Dense(len(possible_labels),activation='sigmoid')(x)\n",
        "\n",
        "model = Model(input_, output)\n",
        "model.compile(\n",
        "    loss='binary_crossentropy',\n",
        "    optimizer=Adam(lr=0.01),\n",
        "    metrics=['accuracy']\n",
        ")"
      ],
      "execution_count": null,
      "outputs": []
    },
    {
      "cell_type": "code",
      "metadata": {
        "id": "aCo1uR_pZjja",
        "colab_type": "code",
        "colab": {
          "base_uri": "https://localhost:8080/",
          "height": 374
        },
        "outputId": "b78cd373-c746-45ea-fdec-7b4077c57a32"
      },
      "source": [
        "print(\"Training time.....\")\n",
        "res = model.fit(\n",
        "    data,\n",
        "    targets,\n",
        "    batch_size=BATCH_SIZE,\n",
        "    epochs=EPOCHS,\n",
        "    validation_split=VALIDATION_SPLIT\n",
        ")"
      ],
      "execution_count": null,
      "outputs": [
        {
          "output_type": "stream",
          "text": [
            "Training time.....\n",
            "Epoch 1/10\n",
            "998/998 [==============================] - 54s 54ms/step - loss: 0.0851 - accuracy: 0.9918 - val_loss: 0.0618 - val_accuracy: 0.9940\n",
            "Epoch 2/10\n",
            "998/998 [==============================] - 55s 55ms/step - loss: 0.0577 - accuracy: 0.9920 - val_loss: 0.0578 - val_accuracy: 0.9913\n",
            "Epoch 3/10\n",
            "998/998 [==============================] - 55s 55ms/step - loss: 0.0541 - accuracy: 0.9886 - val_loss: 0.0547 - val_accuracy: 0.9863\n",
            "Epoch 4/10\n",
            "998/998 [==============================] - 55s 55ms/step - loss: 0.0514 - accuracy: 0.9882 - val_loss: 0.0539 - val_accuracy: 0.9882\n",
            "Epoch 5/10\n",
            "998/998 [==============================] - 56s 56ms/step - loss: 0.0502 - accuracy: 0.9864 - val_loss: 0.0539 - val_accuracy: 0.9888\n",
            "Epoch 6/10\n",
            "998/998 [==============================] - 55s 55ms/step - loss: 0.0492 - accuracy: 0.9817 - val_loss: 0.0535 - val_accuracy: 0.9938\n",
            "Epoch 7/10\n",
            "998/998 [==============================] - 55s 55ms/step - loss: 0.0484 - accuracy: 0.9859 - val_loss: 0.0534 - val_accuracy: 0.9929\n",
            "Epoch 8/10\n",
            "998/998 [==============================] - 55s 55ms/step - loss: 0.0481 - accuracy: 0.9850 - val_loss: 0.0528 - val_accuracy: 0.9832\n",
            "Epoch 9/10\n",
            "998/998 [==============================] - 55s 55ms/step - loss: 0.0475 - accuracy: 0.9861 - val_loss: 0.0533 - val_accuracy: 0.9868\n",
            "Epoch 10/10\n",
            "998/998 [==============================] - 56s 56ms/step - loss: 0.0471 - accuracy: 0.9864 - val_loss: 0.0530 - val_accuracy: 0.9898\n"
          ],
          "name": "stdout"
        }
      ]
    },
    {
      "cell_type": "code",
      "metadata": {
        "id": "4jr4UzcCY6Zx",
        "colab_type": "code",
        "colab": {
          "base_uri": "https://localhost:8080/",
          "height": 530
        },
        "outputId": "8954eba6-d01e-46ae-860c-49a861f97834"
      },
      "source": [
        "# plot some data\n",
        "plt.plot(res.history['loss'], label='loss')\n",
        "plt.plot(res.history['val_loss'], label='val_loss')\n",
        "plt.legend()\n",
        "plt.show()\n",
        "\n",
        "# accuracies\n",
        "plt.plot(res.history['accuracy'], label='acc')\n",
        "plt.plot(res.history['val_accuracy'], label='val_acc')\n",
        "plt.legend()\n",
        "plt.show()\n",
        "\n",
        "# plot the mean AUC over each label\n",
        "p = model.predict(data)\n",
        "aucs = []\n",
        "for j in range(6):\n",
        "    auc = roc_auc_score(targets[:,j], p[:,j])\n",
        "    aucs.append(auc)\n",
        "print(np.mean(aucs))"
      ],
      "execution_count": null,
      "outputs": [
        {
          "output_type": "display_data",
          "data": {
            "image/png": "[encoded data removed]",
            "text/plain": [
              "<Figure size 432x288 with 1 Axes>"
            ]
          },
          "metadata": {
            "tags": [],
            "needs_background": "light"
          }
        },
        {
          "output_type": "display_data",
          "data": {
            "image/png": "[encoded data removed]",
            "text/plain": [
              "<Figure size 432x288 with 1 Axes>"
            ]
          },
          "metadata": {
            "tags": [],
            "needs_background": "light"
          }
        },
        {
          "output_type": "stream",
          "text": [
            "0.982049655214306\n"
          ],
          "name": "stdout"
        }
      ]
    },
    {
      "cell_type": "code",
      "metadata": {
        "id": "i1AUJ54DrX-t",
        "colab_type": "code",
        "colab": {
          "base_uri": "https://localhost:8080/",
          "height": 204
        },
        "outputId": "7310902b-d529-4dae-c339-36f023b83e49"
      },
      "source": [
        ""
      ],
      "execution_count": null,
      "outputs": [
        {
          "output_type": "stream",
          "text": [
            "[[[-0.5801525   0.06808588 -0.04721453]\n",
            "  [ 0.32034228 -0.62727557 -2.44219065]\n",
            "  [ 0.23404343  1.38661925  0.07614053]]\n",
            "\n",
            " [[ 0.83267963  0.19208428  1.02801091]\n",
            "  [-0.88827598 -1.47248712 -0.57494242]\n",
            "  [ 0.11928063 -0.08006667 -2.4718639 ]]\n",
            "\n",
            " [[-0.04368834 -0.26788151  0.65371636]\n",
            "  [ 1.62533369  0.80078791  0.06781377]\n",
            "  [ 1.03668321  0.50337205 -1.04663385]]]\n"
          ],
          "name": "stdout"
        }
      ]
    }
  ]
}